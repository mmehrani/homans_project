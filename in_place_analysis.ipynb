{
 "cells": [
  {
   "cell_type": "markdown",
   "metadata": {},
   "source": [
    "# Forest learning model for of the network"
   ]
  },
  {
   "cell_type": "markdown",
   "metadata": {},
   "source": [
    "Here we want to find out that \"Is there any rule to be admitted in a community in the netwok?\"\n",
    "If community nodes have same criteria in a certain network it can be seen by tree splitting branches."
   ]
  },
  {
   "cell_type": "code",
   "execution_count": 1,
   "metadata": {},
   "outputs": [],
   "source": [
    "import numpy as np\n",
    "import pandas as pd\n",
    "import matplotlib.pyplot as plt\n",
    "from sklearn.model_selection import train_test_split\n",
    "from sklearn.metrics import accuracy_score\n",
    "from sklearn.tree import DecisionTreeClassifier,plot_tree,export_graphviz"
   ]
  },
  {
   "cell_type": "code",
   "execution_count": 2,
   "metadata": {},
   "outputs": [],
   "source": [
    "import Analysis_Tools_Homans\n",
    "import os\n",
    "import sys"
   ]
  },
  {
   "cell_type": "markdown",
   "metadata": {},
   "source": [
    "Version definition and path finder to begin evaluation"
   ]
  },
  {
   "cell_type": "code",
   "execution_count": 3,
   "metadata": {},
   "outputs": [],
   "source": [
    "N = 100\n",
    "T = 5000\n",
    "version = 'p2_p1_p0_num_of_tries_accept_util_off'\n",
    "\n",
    "OSNAME = {'win32':'\\\\', 'linux':'/'}\n",
    "if sys.platform.startswith('win32'):\n",
    "    plat = 'win32'\n",
    "elif sys.platform.startswith('linux'):\n",
    "    plat = 'linux'\n",
    "current_path = os.getcwd()\n",
    "path = current_path +OSNAME[plat]+'runned_files'+OSNAME[plat]+'N%d_T%d'%(N,T)+OSNAME[plat]+version+OSNAME[plat]\n",
    "\n",
    "memory_size = 10\n",
    "saving_time = T\n",
    "path += '0_%d'%(T)+OSNAME[plat]"
   ]
  },
  {
   "cell_type": "markdown",
   "metadata": {},
   "source": [
    "Load the data"
   ]
  },
  {
   "cell_type": "code",
   "execution_count": 4,
   "metadata": {},
   "outputs": [
    {
     "data": {
      "text/html": [
       "<div>\n",
       "<style scoped>\n",
       "    .dataframe tbody tr th:only-of-type {\n",
       "        vertical-align: middle;\n",
       "    }\n",
       "\n",
       "    .dataframe tbody tr th {\n",
       "        vertical-align: top;\n",
       "    }\n",
       "\n",
       "    .dataframe thead th {\n",
       "        text-align: right;\n",
       "    }\n",
       "</style>\n",
       "<table border=\"1\" class=\"dataframe\">\n",
       "  <thead>\n",
       "    <tr style=\"text-align: right;\">\n",
       "      <th></th>\n",
       "      <th>money</th>\n",
       "      <th>asset</th>\n",
       "      <th>approval</th>\n",
       "      <th>worth_ratio</th>\n",
       "      <th>situation</th>\n",
       "      <th>others_feeling</th>\n",
       "      <th>degree</th>\n",
       "      <th>community</th>\n",
       "      <th>self_value</th>\n",
       "      <th>value_to_others</th>\n",
       "    </tr>\n",
       "  </thead>\n",
       "  <tbody>\n",
       "    <tr>\n",
       "      <th>0</th>\n",
       "      <td>0.934</td>\n",
       "      <td>4.656206</td>\n",
       "      <td>4.081</td>\n",
       "      <td>1.096393</td>\n",
       "      <td>0.858312</td>\n",
       "      <td>-0.003191</td>\n",
       "      <td>18.0</td>\n",
       "      <td>0.0</td>\n",
       "      <td>3.217685</td>\n",
       "      <td>3.302480</td>\n",
       "    </tr>\n",
       "    <tr>\n",
       "      <th>1</th>\n",
       "      <td>4.990</td>\n",
       "      <td>14.080997</td>\n",
       "      <td>12.048</td>\n",
       "      <td>1.325267</td>\n",
       "      <td>0.771595</td>\n",
       "      <td>-0.009714</td>\n",
       "      <td>18.0</td>\n",
       "      <td>3.0</td>\n",
       "      <td>7.065746</td>\n",
       "      <td>8.792647</td>\n",
       "    </tr>\n",
       "    <tr>\n",
       "      <th>2</th>\n",
       "      <td>8.012</td>\n",
       "      <td>10.241558</td>\n",
       "      <td>3.187</td>\n",
       "      <td>1.429431</td>\n",
       "      <td>0.653006</td>\n",
       "      <td>0.007335</td>\n",
       "      <td>17.0</td>\n",
       "      <td>2.0</td>\n",
       "      <td>9.226825</td>\n",
       "      <td>10.597873</td>\n",
       "    </tr>\n",
       "    <tr>\n",
       "      <th>3</th>\n",
       "      <td>2.844</td>\n",
       "      <td>20.247779</td>\n",
       "      <td>15.504</td>\n",
       "      <td>0.890841</td>\n",
       "      <td>0.917824</td>\n",
       "      <td>0.010127</td>\n",
       "      <td>11.0</td>\n",
       "      <td>3.0</td>\n",
       "      <td>5.293688</td>\n",
       "      <td>5.536478</td>\n",
       "    </tr>\n",
       "    <tr>\n",
       "      <th>4</th>\n",
       "      <td>11.592</td>\n",
       "      <td>11.853548</td>\n",
       "      <td>0.441</td>\n",
       "      <td>1.686114</td>\n",
       "      <td>0.411099</td>\n",
       "      <td>-0.002996</td>\n",
       "      <td>12.0</td>\n",
       "      <td>3.0</td>\n",
       "      <td>10.010199</td>\n",
       "      <td>9.982828</td>\n",
       "    </tr>\n",
       "    <tr>\n",
       "      <th>...</th>\n",
       "      <td>...</td>\n",
       "      <td>...</td>\n",
       "      <td>...</td>\n",
       "      <td>...</td>\n",
       "      <td>...</td>\n",
       "      <td>...</td>\n",
       "      <td>...</td>\n",
       "      <td>...</td>\n",
       "      <td>...</td>\n",
       "      <td>...</td>\n",
       "    </tr>\n",
       "    <tr>\n",
       "      <th>95</th>\n",
       "      <td>0.444</td>\n",
       "      <td>5.246447</td>\n",
       "      <td>5.480</td>\n",
       "      <td>1.141085</td>\n",
       "      <td>0.724101</td>\n",
       "      <td>0.002809</td>\n",
       "      <td>26.0</td>\n",
       "      <td>0.0</td>\n",
       "      <td>3.919850</td>\n",
       "      <td>3.958042</td>\n",
       "    </tr>\n",
       "    <tr>\n",
       "      <th>96</th>\n",
       "      <td>2.619</td>\n",
       "      <td>12.192630</td>\n",
       "      <td>9.629</td>\n",
       "      <td>1.005784</td>\n",
       "      <td>0.100403</td>\n",
       "      <td>0.021851</td>\n",
       "      <td>32.0</td>\n",
       "      <td>3.0</td>\n",
       "      <td>6.881862</td>\n",
       "      <td>6.335620</td>\n",
       "    </tr>\n",
       "    <tr>\n",
       "      <th>97</th>\n",
       "      <td>3.838</td>\n",
       "      <td>9.120213</td>\n",
       "      <td>5.974</td>\n",
       "      <td>1.130965</td>\n",
       "      <td>0.199761</td>\n",
       "      <td>0.015572</td>\n",
       "      <td>19.0</td>\n",
       "      <td>0.0</td>\n",
       "      <td>8.736935</td>\n",
       "      <td>8.041338</td>\n",
       "    </tr>\n",
       "    <tr>\n",
       "      <th>98</th>\n",
       "      <td>7.241</td>\n",
       "      <td>9.422968</td>\n",
       "      <td>2.573</td>\n",
       "      <td>1.179211</td>\n",
       "      <td>0.103907</td>\n",
       "      <td>0.027827</td>\n",
       "      <td>24.0</td>\n",
       "      <td>1.0</td>\n",
       "      <td>11.229824</td>\n",
       "      <td>11.137769</td>\n",
       "    </tr>\n",
       "    <tr>\n",
       "      <th>99</th>\n",
       "      <td>1.076</td>\n",
       "      <td>13.827220</td>\n",
       "      <td>13.339</td>\n",
       "      <td>1.046096</td>\n",
       "      <td>0.186070</td>\n",
       "      <td>0.011175</td>\n",
       "      <td>30.0</td>\n",
       "      <td>0.0</td>\n",
       "      <td>5.372841</td>\n",
       "      <td>5.062197</td>\n",
       "    </tr>\n",
       "  </tbody>\n",
       "</table>\n",
       "<p>100 rows × 10 columns</p>\n",
       "</div>"
      ],
      "text/plain": [
       "     money      asset  approval  worth_ratio  situation  others_feeling  \\\n",
       "0    0.934   4.656206     4.081     1.096393   0.858312       -0.003191   \n",
       "1    4.990  14.080997    12.048     1.325267   0.771595       -0.009714   \n",
       "2    8.012  10.241558     3.187     1.429431   0.653006        0.007335   \n",
       "3    2.844  20.247779    15.504     0.890841   0.917824        0.010127   \n",
       "4   11.592  11.853548     0.441     1.686114   0.411099       -0.002996   \n",
       "..     ...        ...       ...          ...        ...             ...   \n",
       "95   0.444   5.246447     5.480     1.141085   0.724101        0.002809   \n",
       "96   2.619  12.192630     9.629     1.005784   0.100403        0.021851   \n",
       "97   3.838   9.120213     5.974     1.130965   0.199761        0.015572   \n",
       "98   7.241   9.422968     2.573     1.179211   0.103907        0.027827   \n",
       "99   1.076  13.827220    13.339     1.046096   0.186070        0.011175   \n",
       "\n",
       "    degree  community  self_value  value_to_others  \n",
       "0     18.0        0.0    3.217685         3.302480  \n",
       "1     18.0        3.0    7.065746         8.792647  \n",
       "2     17.0        2.0    9.226825        10.597873  \n",
       "3     11.0        3.0    5.293688         5.536478  \n",
       "4     12.0        3.0   10.010199         9.982828  \n",
       "..     ...        ...         ...              ...  \n",
       "95    26.0        0.0    3.919850         3.958042  \n",
       "96    32.0        3.0    6.881862         6.335620  \n",
       "97    19.0        0.0    8.736935         8.041338  \n",
       "98    24.0        1.0   11.229824        11.137769  \n",
       "99    30.0        0.0    5.372841         5.062197  \n",
       "\n",
       "[100 rows x 10 columns]"
      ]
     },
     "execution_count": 4,
     "metadata": {},
     "output_type": "execute_result"
    }
   ],
   "source": [
    "dataframe = pd.read_csv(path + 'all_agents_properties.csv')\n",
    "dataframe"
   ]
  },
  {
   "cell_type": "code",
   "execution_count": 5,
   "metadata": {},
   "outputs": [
    {
     "data": {
      "text/plain": [
       "array([0., 3., 2., 1.])"
      ]
     },
     "execution_count": 5,
     "metadata": {},
     "output_type": "execute_result"
    }
   ],
   "source": [
    "community_values = dataframe['community'][ dataframe['community'] != -1].unique()\n",
    "community_values"
   ]
  },
  {
   "cell_type": "code",
   "execution_count": 6,
   "metadata": {},
   "outputs": [],
   "source": [
    "dataframe = dataframe[ dataframe['community'] != -1 ]"
   ]
  },
  {
   "cell_type": "code",
   "execution_count": 7,
   "metadata": {},
   "outputs": [
    {
     "data": {
      "text/plain": [
       "(array([31.,  0.,  0., 19.,  0.,  0., 17.,  0.,  0., 30.]),\n",
       " array([0. , 0.3, 0.6, 0.9, 1.2, 1.5, 1.8, 2.1, 2.4, 2.7, 3. ]),\n",
       " <a list of 10 Patch objects>)"
      ]
     },
     "execution_count": 7,
     "metadata": {},
     "output_type": "execute_result"
    },
    {
     "data": {
      "image/png": "[encoded data removed]",
      "text/plain": [
       "<Figure size 432x288 with 1 Axes>"
      ]
     },
     "metadata": {
      "needs_background": "light"
     },
     "output_type": "display_data"
    }
   ],
   "source": [
    "plt.hist(dataframe['community'])"
   ]
  },
  {
   "cell_type": "code",
   "execution_count": 8,
   "metadata": {},
   "outputs": [],
   "source": [
    "X,y = dataframe.drop(['community'],axis = 1), dataframe['community']"
   ]
  },
  {
   "cell_type": "code",
   "execution_count": 9,
   "metadata": {},
   "outputs": [
    {
     "data": {
      "text/plain": [
       "Index(['money', 'asset', 'approval', 'worth_ratio', 'situation',\n",
       "       'others_feeling', 'degree', 'self_value', 'value_to_others'],\n",
       "      dtype='object')"
      ]
     },
     "execution_count": 9,
     "metadata": {},
     "output_type": "execute_result"
    }
   ],
   "source": [
    "X.columns"
   ]
  },
  {
   "cell_type": "markdown",
   "metadata": {},
   "source": [
    "Tree model to classify"
   ]
  },
  {
   "cell_type": "code",
   "execution_count": 10,
   "metadata": {},
   "outputs": [
    {
     "data": {
      "text/plain": [
       "DecisionTreeClassifier(ccp_alpha=0.0, class_weight=None, criterion='gini',\n",
       "                       max_depth=None, max_features=None, max_leaf_nodes=None,\n",
       "                       min_impurity_decrease=0.0, min_impurity_split=None,\n",
       "                       min_samples_leaf=1, min_samples_split=2,\n",
       "                       min_weight_fraction_leaf=0.0, presort='deprecated',\n",
       "                       random_state=None, splitter='best')"
      ]
     },
     "execution_count": 10,
     "metadata": {},
     "output_type": "execute_result"
    }
   ],
   "source": [
    "tree_model = DecisionTreeClassifier()\n",
    "tree_model.fit(X,y)"
   ]
  },
  {
   "cell_type": "code",
   "execution_count": 11,
   "metadata": {},
   "outputs": [],
   "source": [
    "importances_tm = pd.Series(tree_model.feature_importances_,\n",
    "                          index = X.columns)\n",
    "sorted_importances_tm = importances_tm.sort_values()"
   ]
  },
  {
   "cell_type": "code",
   "execution_count": 12,
   "metadata": {
    "scrolled": false
   },
   "outputs": [
    {
     "data": {
      "text/plain": [
       "Text(0.5, 1.0, 'Feature Importance')"
      ]
     },
     "execution_count": 12,
     "metadata": {},
     "output_type": "execute_result"
    },
    {
     "data": {
      "image/png": "[encoded data removed]",
      "text/plain": [
       "<Figure size 1600x600 with 1 Axes>"
      ]
     },
     "metadata": {
      "needs_background": "light"
     },
     "output_type": "display_data"
    }
   ],
   "source": [
    "plt.figure(figsize = (16,6),dpi = 100)\n",
    "sorted_importances_tm.plot(kind = 'barh',\n",
    "                        color = 'red',alpha = 0.5)\n",
    "plt.title(\"Feature Importance\")"
   ]
  },
  {
   "cell_type": "markdown",
   "metadata": {},
   "source": [
    "We try to visiualize the tree model"
   ]
  },
  {
   "cell_type": "code",
   "execution_count": 14,
   "metadata": {},
   "outputs": [],
   "source": [
    "import graphviz\n",
    "dot_data = export_graphviz(tree_model, out_file=None, \n",
    "                      feature_names=X.columns,  \n",
    "                      class_names=[str(x) for x in community_values],  \n",
    "                      filled=True, rounded=True)  \n",
    "graph = graphviz.Source(dot_data)\n",
    "\n",
    "png_bytes = graph.pipe(format='png')\n",
    "with open(path + 'lying in communities.png','wb') as f:\n",
    "    f.write(png_bytes)\n",
    "    f.close()"
   ]
  },
  {
   "cell_type": "code",
   "execution_count": 15,
   "metadata": {},
   "outputs": [],
   "source": [
    "png_bytes = graph.pipe(format='png')\n",
    "with open(path + 'lying in communities.png','wb') as f:\n",
    "    f.write(png_bytes)\n",
    "    f.close()"
   ]
  },
  {
   "cell_type": "markdown",
   "metadata": {},
   "source": [
    "Random Forest Model"
   ]
  },
  {
   "cell_type": "code",
   "execution_count": 16,
   "metadata": {},
   "outputs": [],
   "source": [
    "from sklearn.ensemble import RandomForestClassifier"
   ]
  },
  {
   "cell_type": "code",
   "execution_count": 17,
   "metadata": {
    "scrolled": true
   },
   "outputs": [
    {
     "data": {
      "text/plain": [
       "RandomForestClassifier(bootstrap=True, ccp_alpha=0.0, class_weight=None,\n",
       "                       criterion='gini', max_depth=None, max_features='auto',\n",
       "                       max_leaf_nodes=None, max_samples=None,\n",
       "                       min_impurity_decrease=0.0, min_impurity_split=None,\n",
       "                       min_samples_leaf=1, min_samples_split=2,\n",
       "                       min_weight_fraction_leaf=0.0, n_estimators=100,\n",
       "                       n_jobs=None, oob_score=False, random_state=None,\n",
       "                       verbose=0, warm_start=False)"
      ]
     },
     "execution_count": 17,
     "metadata": {},
     "output_type": "execute_result"
    }
   ],
   "source": [
    "rf = RandomForestClassifier()\n",
    "rf.fit(X,y)"
   ]
  },
  {
   "cell_type": "code",
   "execution_count": 18,
   "metadata": {},
   "outputs": [],
   "source": [
    "importances_rf = pd.Series(tree_model.feature_importances_,\n",
    "                          index = X.columns)\n",
    "sorted_importances_rf = importances_rf.sort_values()"
   ]
  },
  {
   "cell_type": "code",
   "execution_count": 19,
   "metadata": {},
   "outputs": [
    {
     "data": {
      "text/plain": [
       "Text(0.5, 1.0, 'Feature Importance')"
      ]
     },
     "execution_count": 19,
     "metadata": {},
     "output_type": "execute_result"
    },
    {
     "data": {
      "image/png": "[encoded data removed]",
      "text/plain": [
       "<Figure size 1600x600 with 1 Axes>"
      ]
     },
     "metadata": {
      "needs_background": "light"
     },
     "output_type": "display_data"
    }
   ],
   "source": [
    "plt.figure(figsize = (16,6),dpi = 100)\n",
    "sorted_importances_rf.plot(kind = 'barh',\n",
    "                        color = 'red',alpha = 0.5)\n",
    "plt.title(\"Feature Importance\")"
   ]
  },
  {
   "cell_type": "code",
   "execution_count": null,
   "metadata": {},
   "outputs": [],
   "source": []
  },
  {
   "cell_type": "code",
   "execution_count": null,
   "metadata": {},
   "outputs": [],
   "source": []
  }
 ],
 "metadata": {
  "kernelspec": {
   "display_name": "Python 3",
   "language": "python",
   "name": "python3"
  },
  "language_info": {
   "codemirror_mode": {
    "name": "ipython",
    "version": 3
   },
   "file_extension": ".py",
   "mimetype": "text/x-python",
   "name": "python",
   "nbconvert_exporter": "python",
   "pygments_lexer": "ipython3",
   "version": "3.7.6"
  }
 },
 "nbformat": 4,
 "nbformat_minor": 4
}
